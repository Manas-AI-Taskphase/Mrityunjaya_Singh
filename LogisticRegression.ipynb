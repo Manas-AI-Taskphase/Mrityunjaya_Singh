{
 "cells": [
  {
   "cell_type": "code",
   "execution_count": 1,
   "id": "f6c1db33-dbdd-492f-8595-156c33d472ac",
   "metadata": {},
   "outputs": [],
   "source": [
    "import pandas as pd \n",
    "import numpy  as np\n",
    "import matplotlib.pyplot as plt"
   ]
  },
  {
   "cell_type": "code",
   "execution_count": 73,
   "id": "c2bef37c-5215-40b9-900b-c16c02b1a138",
   "metadata": {},
   "outputs": [],
   "source": [
    "train = pd.read_csv('train-2.csv')\n",
    "train = train.drop(\"Name\", axis=1)\n",
    "test  =  pd.read_csv('test-2.csv')\n",
    "test  =  test.drop(\"Name\", axis=1)\n",
    "\n",
    "#Modifying the DataFrame to replace female by integer 1 and male by integer 2 \n",
    "mapping = {'male': 0, 'female': 1} \n",
    "train = train.replace({'Sex': mapping})\n",
    "test = test.replace({'Sex': mapping})\n",
    "\n",
    "column_to_move = train.pop(\"Survived\")\n",
    "column_to_move2 = test.pop(\"Survived\")\n",
    "train.insert(6, \"Survived\", column_to_move)\n",
    "test.insert(6, \"Survived\", column_to_move2)\n",
    "\n",
    "\n",
    "train_data = train.values\n",
    "test_data = test.values\n",
    "\n",
    "X_train = train_data[: , :-1]\n",
    "Y_train = train_data[ : ,-1].reshape(train_data.shape[0],1)\n",
    "X_train = X_train.T\n",
    "Y_train = Y_train.reshape(1,X_train.shape[1])\n",
    "\n",
    "\n",
    "X_test = test_data[: , :-1]\n",
    "Y_test = test_data[ : ,-1].reshape(test_data.shape[0],1)\n",
    "X_test = X_test.T\n",
    "Y_test = Y_test.reshape(1,X_test.shape[1])"
   ]
  },
  {
   "cell_type": "code",
   "execution_count": 40,
   "id": "0d874da3-301c-4842-a34a-e8e98655c839",
   "metadata": {},
   "outputs": [
    {
     "name": "stdout",
     "output_type": "stream",
     "text": [
      "Shape of X train :  (6, 577)\n",
      "Shape of Y train :  (1, 577)\n"
     ]
    }
   ],
   "source": [
    "print(\"Shape of X train : \", X_train.shape)\n",
    "print(\"Shape of Y train : \", Y_train.shape)"
   ]
  },
  {
   "cell_type": "code",
   "execution_count": 49,
   "id": "777132fc-636c-4544-bb1e-9fc95943784e",
   "metadata": {},
   "outputs": [],
   "source": [
    "def sigmoid(x):\n",
    "    return 1/(1 + np.exp(-x))"
   ]
  },
  {
   "cell_type": "code",
   "execution_count": 74,
   "id": "916ded8f-8533-4301-a779-eee8410b9d82",
   "metadata": {},
   "outputs": [],
   "source": [
    "def model(X, Y, learning_rate, iterations):\n",
    "    m = X_train.shape[1]\n",
    "    n = X_train.shape[0]\n",
    "    cost_list = []\n",
    "    W = np.zeros((n,1))\n",
    "    B = 0\n",
    "\n",
    "    for i in range(iterations):\n",
    "\n",
    "        Z = np.dot(W.T, X) + B\n",
    "        A = sigmoid(Z)\n",
    "\n",
    "        cost = -(1/m)*np.sum( Y*np.log(A) + (1-Y)*np.log(1-A))\n",
    "\n",
    "        dW = (1/m)*np.dot(A-Y , X.T)\n",
    "        dB = (1/m)*np.sum(A - Y)\n",
    "\n",
    "        W = W - learning_rate*dW.T\n",
    "        B = B - learning_rate*dB\n",
    "        cost_list.append(cost)\n",
    "\n",
    "        if i%(iterations/10) == 0:\n",
    "            print(\" Cost after \", i, \" Iterations is \", cost)\n",
    "\n",
    "    return W,B, cost_list"
   ]
  },
  {
   "cell_type": "code",
   "execution_count": 75,
   "id": "83ee85f8-cac9-4a99-8675-7df9d4f54a9a",
   "metadata": {},
   "outputs": [
    {
     "name": "stdout",
     "output_type": "stream",
     "text": [
      " Cost after  0  Iterations is  0.6931471805599453\n",
      " Cost after  10000  Iterations is  0.47878355830091907\n",
      " Cost after  20000  Iterations is  0.4663659867581117\n",
      " Cost after  30000  Iterations is  0.46363751730866243\n",
      " Cost after  40000  Iterations is  0.46225025201969516\n",
      " Cost after  50000  Iterations is  0.46126220097238546\n",
      " Cost after  60000  Iterations is  0.46050380628981885\n",
      " Cost after  70000  Iterations is  0.4599134647622202\n",
      " Cost after  80000  Iterations is  0.4594526365229346\n",
      " Cost after  90000  Iterations is  0.459092589036206\n"
     ]
    }
   ],
   "source": [
    "iteration = 100000\n",
    "learning_rates = 0.003\n",
    "W , B , cost_list = model(X_train , Y_train, learning_rate = learning_rates, iterations = iteration)"
   ]
  },
  {
   "cell_type": "code",
   "execution_count": 77,
   "id": "c9c56c6d-a6a9-4a37-80e8-830a0becba5e",
   "metadata": {},
   "outputs": [
    {
     "data": {
      "text/plain": [
       "[<matplotlib.lines.Line2D at 0x14502a690>]"
      ]
     },
     "execution_count": 77,
     "metadata": {},
     "output_type": "execute_result"
    },
    {
     "data": {
      "image/png": "[encoded data removed]",
      "text/plain": [
       "<Figure size 640x480 with 1 Axes>"
      ]
     },
     "metadata": {},
     "output_type": "display_data"
    }
   ],
   "source": [
    "plt.plot(np.arange(iteration),cost_list)"
   ]
  },
  {
   "cell_type": "code",
   "execution_count": 79,
   "id": "ed1f92f9-534e-4abb-a87b-0c04e52c73b4",
   "metadata": {},
   "outputs": [],
   "source": [
    "def accuracy(X,Y,W,B):\n",
    "    Z = np.dot(W.T , X) + B\n",
    "    A = sigmoid(Z)\n",
    "    A = A > 0.5\n",
    "\n",
    "    A = np.array(A, dtype = 'int64')\n",
    "\n",
    "    acc = (1 - np.sum(np.absolute(A - Y))/Y.shape[1])*100\n",
    "\n",
    "    print(\"Accuracy of the Model in % is : \", acc)"
   ]
  },
  {
   "cell_type": "code",
   "execution_count": 80,
   "id": "2ac888e3-2421-45a9-9c9a-b1ed66ee97ed",
   "metadata": {},
   "outputs": [
    {
     "name": "stdout",
     "output_type": "stream",
     "text": [
      "Accuracy of the Model in % is :  80.0\n"
     ]
    }
   ],
   "source": [
    "accuracy(X_test, Y_test, W, B)"
   ]
  }
 ],
 "metadata": {
  "kernelspec": {
   "display_name": "Python 3 (ipykernel)",
   "language": "python",
   "name": "python3"
  },
  "language_info": {
   "codemirror_mode": {
    "name": "ipython",
    "version": 3
   },
   "file_extension": ".py",
   "mimetype": "text/x-python",
   "name": "python",
   "nbconvert_exporter": "python",
   "pygments_lexer": "ipython3",
   "version": "3.11.6"
  }
 },
 "nbformat": 4,
 "nbformat_minor": 5
}
